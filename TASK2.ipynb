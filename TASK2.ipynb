{
 "cells": [
  {
   "cell_type": "code",
   "execution_count": 23,
   "metadata": {},
   "outputs": [
    {
     "name": "stdout",
     "output_type": "stream",
     "text": [
      "Requirement already satisfied: pyteomics in c:\\users\\reem\\anaconda3\\lib\\site-packages (4.7.5)\n"
     ]
    }
   ],
   "source": [
    "\n",
    "! pip install pyteomics"
   ]
  },
  {
   "cell_type": "code",
   "execution_count": 24,
   "metadata": {},
   "outputs": [],
   "source": [
    "from pyteomics import mass as pyteo_mass \n",
    "from collections import defaultdict"
   ]
  },
  {
   "cell_type": "code",
   "execution_count": 25,
   "metadata": {},
   "outputs": [],
   "source": [
    "# Function to compute the monoisotopic mass of a peptide\n",
    "def compute_peptide_mass(sequence):\n",
    "    return pyteo_mass.calculate_mass(sequence=sequence)  # Use the renamed module\n",
    "\n",
    "# Function to digest the protein into peptides using a cleavage rule (e.g., trypsin rule)\n",
    "def digest_protein(protein_sequence, cleavage_rule):\n",
    "    peptides = []\n",
    "    start = 0\n",
    "    for i in range(1, len(protein_sequence)):\n",
    "        if protein_sequence[i] in cleavage_rule and protein_sequence[i-1] not in 'P':\n",
    "            peptides.append(protein_sequence[start:i])\n",
    "            start = i\n",
    "    peptides.append(protein_sequence[start:])\n",
    "    return peptides\n",
    "\n",
    "# Function to map peptides to their masses\n",
    "def map_peptides_to_masses(peptides):\n",
    "    mass_to_peptides = defaultdict(list)\n",
    "    for peptide in peptides:\n",
    "        peptide_mass = compute_peptide_mass(peptide)\n",
    "        mass_to_peptides[peptide_mass].append(peptide)\n",
    "    return mass_to_peptides\n",
    "\n",
    "# Function to find isobaric peptides (peptides with the same mass but different sequences)\n",
    "def find_isobaric_peptides(mass_to_peptides):\n",
    "    isobaric_peptides = {}\n",
    "    for mass, peptides in mass_to_peptides.items():\n",
    "        if len(peptides) > 1:  # If there are multiple peptides with the same mass\n",
    "            unique_peptides = set(peptides)  # Remove duplicates\n",
    "            if len(unique_peptides) > 1:  # If there are peptides with different sequences but the same mass\n",
    "                isobaric_peptides[mass] = list(unique_peptides)\n",
    "    return isobaric_peptides\n",
    "# Function to read the protein sequence from a FASTA file\n",
    "def read_protein_from_fasta(fasta_file):\n",
    "    with open(fasta_file, 'r') as file:\n",
    "        lines = file.readlines()\n",
    "        protein_sequence = ''.join(lines[1:]).replace('\\n', '')  # Combine lines after the first one (ignoring the header)\n",
    "    return protein_sequence\n"
   ]
  },
  {
   "cell_type": "code",
   "execution_count": 30,
   "metadata": {},
   "outputs": [
    {
     "name": "stdout",
     "output_type": "stream",
     "text": [
      "Loaded Protein Sequence:\n",
      "MTLNGGGSGAGGSRGGGQERERRRGSTPWGPAPPLHRRSMPVDERDLQAALTPGALTAAAAGTGTQGPRLDWPEDSEDSLSSGGSDSDESVYKVLLLGAPGVGKSALARIFGGVEDGPEAEAAGHTYDRSIVVDGEEASLMVYDIWEQDGGRWLPGHCMAMGDAYVIVYSVTDKGSFEKASELRVQLRRARQTDDVPIILVGNKSDLVRSREVSVDEGRACAVVFDCKFIETSAALHHNVQALFEGVVRQIRLRRDSKEANARRQAGTRRRESLGKKAKRFLGRIVARNSRKMAFRAKSKSCHDLSVL\n",
      "\n",
      "Peptide Masses and Sequences:\n",
      "Mass: 1064.4557 Da => Peptides: MTLNGGGSGAGGS\n",
      "Mass: 602.2772 Da => Peptides: RGGGQE\n",
      "Mass: 303.1543 Da => Peptides: RE\n",
      "Mass: 174.1117 Da => Peptides: R, R, R, R, R, R, R, R, R\n",
      "Mass: 1371.7048 Da => Peptides: RGSTPWGPAPPLH\n",
      "Mass: 832.3749 Da => Peptides: RSMPVDE\n",
      "Mass: 4821.2125 Da => Peptides: RDLQAALTPGALTAAAAGTGTQGPRLDWPEDSEDSLSSGGSDSDESVY\n",
      "Mass: 1022.6488 Da => Peptides: KVLLLGAPGVG\n",
      "Mass: 488.2958 Da => Peptides: KSALA\n",
      "Mass: 2089.9341 Da => Peptides: RIFGGVEDGPEAEAAGHTYD\n",
      "Mass: 2567.1850 Da => Peptides: RSIVVDGEEASLMVYDIWEQDGG\n",
      "Mass: 2483.1436 Da => Peptides: RWLPGHCMAMGDAYVIVYSVTD\n",
      "Mass: 566.2700 Da => Peptides: KGSFE\n",
      "Mass: 546.3013 Da => Peptides: KASEL\n",
      "Mass: 514.3227 Da => Peptides: RVQL\n",
      "Mass: 245.1488 Da => Peptides: RA, RA\n",
      "Mass: 1438.7780 Da => Peptides: RQTDDVPIILVGN\n",
      "Mass: 560.3170 Da => Peptides: KSDLV\n",
      "Mass: 261.1437 Da => Peptides: RS\n",
      "Mass: 889.4141 Da => Peptides: REVSVDEG\n",
      "Mass: 982.4365 Da => Peptides: RACAVVFDC\n",
      "Mass: 2309.2168 Da => Peptides: KFIETSAALHHNVQALFEGVV\n",
      "Mass: 415.2543 Da => Peptides: RQI\n",
      "Mass: 287.1957 Da => Peptides: RL\n",
      "Mass: 376.1706 Da => Peptides: RDS\n",
      "Mass: 531.2653 Da => Peptides: KEANA\n",
      "Mass: 531.2765 Da => Peptides: RQAGT\n",
      "Mass: 560.2918 Da => Peptides: RESLG\n",
      "Mass: 146.1055 Da => Peptides: K, K\n",
      "Mass: 217.1426 Da => Peptides: KA\n",
      "Mass: 491.2856 Da => Peptides: RFLG\n",
      "Mass: 457.3013 Da => Peptides: RIVA\n",
      "Mass: 375.1866 Da => Peptides: RNS\n",
      "Mass: 495.2515 Da => Peptides: KMAF\n",
      "Mass: 233.1376 Da => Peptides: KS\n",
      "Mass: 1000.5012 Da => Peptides: KSCHDLSVL\n",
      "\n",
      "No isobaric peptides detected.\n"
     ]
    }
   ],
   "source": [
    "# Main part of the code\n",
    "if __name__ == \"__main__\":\n",
    "    fasta_file = fasta_file = \"C:/Users/REEM/Desktop/DIA.txt\"  # Path to the FASTA file\n",
    " # Path to the FASTA file\n",
    "    protein_sequence = read_protein_from_fasta(fasta_file)\n",
    "    print(f\"Loaded Protein Sequence:\\n{protein_sequence}\\n\")\n",
    "\n",
    "    # Define the cleavage rule for trypsin (cut after K and R, unless followed by P)\n",
    "    trypsin_rule = ['K', 'R']\n",
    "\n",
    "    # Digest the protein sequence into peptides\n",
    "    digested_peptides = digest_protein(protein_sequence, trypsin_rule)\n",
    "\n",
    "    # Map peptides to their masses\n",
    "    peptide_mass_map = map_peptides_to_masses(digested_peptides)\n",
    "    print(\"Peptide Masses and Sequences:\")\n",
    "    for mass, peptides in peptide_mass_map.items():\n",
    "        print(f\"Mass: {mass:.4f} Da => Peptides: {', '.join(peptides)}\")\n",
    "\n",
    "    # Find isobaric peptides (same mass, different sequences)\n",
    "    isobaric_peptides = find_isobaric_peptides(peptide_mass_map)\n",
    "    if isobaric_peptides:\n",
    "        print(\"\\nIsobaric Peptides Found:\")\n",
    "        for mass, seqs in isobaric_peptides.items():\n",
    "            print(f\"Mass: {mass:.4f} Da => Sequences: {', '.join(seqs)}\")\n",
    "    else:\n",
    "        print(\"\\nNo isobaric peptides detected.\")"
   ]
  }
 ],
 "metadata": {
  "kernelspec": {
   "display_name": "Python 3",
   "language": "python",
   "name": "python3"
  },
  "language_info": {
   "codemirror_mode": {
    "name": "ipython",
    "version": 3
   },
   "file_extension": ".py",
   "mimetype": "text/x-python",
   "name": "python",
   "nbconvert_exporter": "python",
   "pygments_lexer": "ipython3",
   "version": "3.12.0"
  }
 },
 "nbformat": 4,
 "nbformat_minor": 2
}
